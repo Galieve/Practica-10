{
 "cells": [
  {
   "cell_type": "markdown",
   "metadata": {},
   "source": [
    "# Clasificación de textos con aprendizaje automático"
   ]
  },
  {
   "cell_type": "markdown",
   "metadata": {},
   "source": [
    "El objetivo de este notebook es mostrar cómo clasificar textos con algoritmos clásicos de aprendizaje automático. \n",
    "\n",
    "*Este notebook reutiliza y modifica el notebook preparado [por NLP Town](http://www.nlp.town) y [disponible en github](https://github.com/nlptown/nlp-notebooks/blob/master/Traditional%20text%20classification%20with%20Scikit-learn.ipynb).*\n",
    "\n"
   ]
  },
  {
   "cell_type": "markdown",
   "metadata": {},
   "source": [
    "## Conjunto de datos"
   ]
  },
  {
   "cell_type": "markdown",
   "metadata": {},
   "source": [
    "El conjunto de datos será el de [20 Newsgroups](http://qwone.com/~jason/20Newsgroups/), que es usado a menudo como benchmark para modelos de clasificación de textos y que se encuentra disponible en [Scikit-learn](https://scikit-learn.org/stable/). \n",
    "\n",
    "El conjunto consiste en textos sobre diferentes temas, desde hardware hasta religión. Algunos temas están muy relacionados, p.ej. \"IBM PC hardware\" y \"Mac hardware\", mientras que otros son más diversos, p.ej. \"religion\" o \"hockey\"). \n",
    "\n",
    "Está dividido de forma predeterminada en entrenamiento y validación en porcentajes de 60 y 40, respectivamente. "
   ]
  },
  {
   "cell_type": "code",
   "execution_count": 2,
   "metadata": {},
   "outputs": [],
   "source": [
    "from sklearn.datasets import fetch_20newsgroups"
   ]
  },
  {
   "cell_type": "code",
   "execution_count": 3,
   "metadata": {},
   "outputs": [
    {
     "name": "stderr",
     "output_type": "stream",
     "text": [
      "Downloading 20news dataset. This may take a few minutes.\n",
      "Downloading dataset from https://ndownloader.figshare.com/files/5975967 (14 MB)\n"
     ]
    },
    {
     "name": "stdout",
     "output_type": "stream",
     "text": [
      "Training texts: 11314\n",
      "Test texts: 7532\n"
     ]
    }
   ],
   "source": [
    "train_data = fetch_20newsgroups(subset='train', shuffle=True, random_state=42)\n",
    "test_data = fetch_20newsgroups(subset='test')\n",
    "\n",
    "print(\"Training texts:\", len(train_data.data))\n",
    "print(\"Test texts:\", len(test_data.data))"
   ]
  },
  {
   "cell_type": "markdown",
   "metadata": {},
   "source": [
    "## Preprocesado de datos"
   ]
  },
  {
   "cell_type": "markdown",
   "metadata": {},
   "source": [
    "Para que un clasificador de aprendizaje automático pueda trabajar debemos transformar cada texto a un vector de variables descriptivas y, por tanto, el conjunto de textos pasará a ser una matriz de datos donde por columnas tengamos las variables de entrada y por filas cada uno de los textos del conjunto. Además habrá una columna indicando la clase del texto, es decir, el tema del grupo de noticias al que pertenece el texto.\n",
    "\n",
    "Seguiremos la aproximación de la \"bolsa-de-palabras\". Cada texto, será transformado en un vector de palabras (o n-gramas) con su frecuencia de aparición en el texto. El orden de aparición dejar de ser relevante. Las palabras que no aparecen en dicho texto, pero sí en otros del conjunto de datos, tendrán frecuencia cero.\n",
    "\n",
    "En Scikit-learn, podemos construir esa matriz de datos con `CountVectorizer`, que transforma el texto en variables, donde cada variable es una palabra, y cuenta las veces que aparece dicha palabra en el corpus de documentos. Si no le facilitamos un diccionario (en nuestro caso no lo hará), las variables que extraerá serán aquellas palabras encontradas analizando el corpus. \n",
    "\n",
    "Sin embargo, esas cuentas no son excesivamente útiles ya que contendrá palabras que son muy frecuentes en inglés, como  *a*, *the* o *be*. Estas palabras no tienen un gran poder discriminante, como si lo tendrían en este caso palabras como  *computer* o *hardware*: palabras que son frecuentes en textos de una clase, pero no de otras.  Para ello es necesario utilizar un peso según su TF-IDF, lo cual será más útil que la frecuencia en bruto en contextos de recuperación de información o clasificación. El TF-IDF cuenta el número de veces que una palabra aparece en un texto, divido entre el logaritmo del porcentaje de documentos del corpus que contienen dicho término. Para ello generar estos pesos utilizaremos el `TfidfTransformer` de Scikit-learn.\n",
    "\n"
   ]
  },
  {
   "cell_type": "markdown",
   "metadata": {},
   "source": [
    "### Diferenciando entre entrenamiento y validación"
   ]
  },
  {
   "cell_type": "markdown",
   "metadata": {},
   "source": [
    "En primer lugar aplicaremos las transformaciones en el conjunto de entrenamiento. Observa que tanto el diccionario usado, como la frecuencia inversa de aparición de un término en los documentos (es decir, el término IDF), debe ser el mismo en los conjuntos de entrenamiento y de test. Por ello, observa que usamos `fit_transform` para el conjunto de entrenamiento,  para fijar el dicccionario en `CountVectorizer` y el término idf del `TfidfTransformer`, mientras que usamos `transform` en el conjunto de test (de forma que ambas herramientas usan lo aprendido en el conjunto de entrenamiento)"
   ]
  },
  {
   "cell_type": "code",
   "execution_count": 4,
   "metadata": {},
   "outputs": [],
   "source": [
    "from sklearn.feature_extraction.text import CountVectorizer\n",
    "from sklearn.feature_extraction.text import TfidfTransformer\n",
    "\n",
    "vectorizer = CountVectorizer(stop_words = 'english', ngram_range = (1,2))\n",
    "tfidfer= TfidfTransformer()\n",
    "\n",
    "# Tomamos los textos del conjunto de entrenamiento y los transformamos en \n",
    "# una matriz de datos (palabras) según el diccionario estándar\n",
    "train_vector_data=vectorizer.fit_transform(train_data.data)\n",
    "# Calculamos el valor TF-IDF \n",
    "train_preprocessed=tfidfer.fit_transform(train_vector_data)\n",
    "\n",
    "# Tomamos los textos del conjunto de test y los transformamos en una matriz\n",
    "# de palabras. Al usar \"transform\" toma como referencia únicamente las palabras\n",
    "# encontradas en el conjunto de entrenamiento\n",
    "test_vector_data=vectorizer.transform(test_data.data)\n",
    "# Calculamos el valor TF-IDF \n",
    "# Al usar \"transform\" toma como IDF el del conjunto de entrenamiento \n",
    "test_preprocessed=tfidfer.transform(test_vector_data)\n"
   ]
  },
  {
   "cell_type": "markdown",
   "metadata": {},
   "source": [
    "## Entrenando los modelos de aprendizaje automático"
   ]
  },
  {
   "cell_type": "markdown",
   "metadata": {},
   "source": [
    "Vamos a probar los clasificadores que ya conocemos en el problema de clasificación de textos.\n",
    "\n",
    "La versión que vamos a usar de los clasificadores es la versión por defecto. Sin embargo, es posible encontrar mejores clasificadores buscando combinaciones de parámetros más adecuadas durante el aprendizaje. Puedes usar la búsqueda en rejilla para ello (grid search) probando distintos valores de parámetros o combinaciones de ellos."
   ]
  },
  {
   "cell_type": "markdown",
   "metadata": {},
   "source": [
    "### Árbol de decisión "
   ]
  },
  {
   "cell_type": "code",
   "execution_count": 5,
   "metadata": {},
   "outputs": [
    {
     "name": "stdout",
     "output_type": "stream",
     "text": [
      "Iteración  2 ! :)\n",
      "Árbol, porcentaje de aciertos en entrenamiento: 0.9999116139296447\n",
      "Árbol, porcentaje de aciertos en test: 0.5708975039830059\n",
      "Iteración  3 ! :)\n",
      "Árbol, porcentaje de aciertos en entrenamiento: 0.9756054445819339\n",
      "Árbol, porcentaje de aciertos en test: 0.5723579394583113\n",
      "Iteración  4 ! :)\n",
      "Árbol, porcentaje de aciertos en entrenamiento: 0.9619056036768605\n",
      "Árbol, porcentaje de aciertos en test: 0.5703664365374402\n",
      "Iteración  5 ! :)\n",
      "Árbol, porcentaje de aciertos en entrenamiento: 0.9531553827116847\n",
      "Árbol, porcentaje de aciertos en test: 0.5682421667551779\n",
      "Iteración  6 ! :)\n",
      "Árbol, porcentaje de aciertos en entrenamiento: 0.9415768074951387\n",
      "Árbol, porcentaje de aciertos en test: 0.5695698353690919\n",
      "Iteración  7 ! :)\n",
      "Árbol, porcentaje de aciertos en entrenamiento: 0.9346826940074244\n",
      "Árbol, porcentaje de aciertos en test: 0.5694370685077005\n",
      "Iteración  8 ! :)\n",
      "Árbol, porcentaje de aciertos en entrenamiento: 0.9312356372635673\n",
      "Árbol, porcentaje de aciertos en test: 0.575942644715879\n",
      "Iteración  9 ! :)\n",
      "Árbol, porcentaje de aciertos en entrenamiento: 0.9247834541276295\n",
      "Árbol, porcentaje de aciertos en test: 0.5720924057355284\n"
     ]
    }
   ],
   "source": [
    "from sklearn import tree\n",
    "import numpy as np\n",
    "\n",
    "\n",
    "# Creamos el clasificador con los valores por defecto\n",
    "for i in range (2,10):\n",
    "    print(\"Iteración \",i,\"! :)\")\n",
    "    tree_classifier = tree.DecisionTreeClassifier(min_samples_split = i )\n",
    "    tree_classifier.fit(train_preprocessed, train_data.target)\n",
    "\n",
    "    tree_train_predictions = tree_classifier.predict(train_preprocessed)\n",
    "    tree_test_predictions = tree_classifier.predict(test_preprocessed)\n",
    "\n",
    "\n",
    "    print(\"Árbol, porcentaje de aciertos en entrenamiento:\", np.mean(tree_train_predictions == train_data.target))\n",
    "    print(\"Árbol, porcentaje de aciertos en test:\", np.mean(tree_test_predictions == test_data.target))"
   ]
  },
  {
   "cell_type": "code",
   "execution_count": 7,
   "metadata": {},
   "outputs": [
    {
     "name": "stdout",
     "output_type": "stream",
     "text": [
      "Iteración  60 ! :)\n",
      "Árbol, porcentaje de aciertos en entrenamiento: 0.7770903305639031\n",
      "Árbol, porcentaje de aciertos en test: 0.5225703664365374\n",
      "Iteración  100 ! :)\n",
      "Árbol, porcentaje de aciertos en entrenamiento: 0.8564610217429733\n",
      "Árbol, porcentaje de aciertos en test: 0.546202867764206\n",
      "Iteración  140 ! :)\n",
      "Árbol, porcentaje de aciertos en entrenamiento: 0.9228389605798126\n",
      "Árbol, porcentaje de aciertos en test: 0.5727562400424854\n",
      "Iteración  180 ! :)\n",
      "Árbol, porcentaje de aciertos en entrenamiento: 0.9670319957574687\n",
      "Árbol, porcentaje de aciertos en test: 0.5722251725969199\n"
     ]
    }
   ],
   "source": [
    "for i in range (60,220,40):\n",
    "    print(\"Iteración \",i,\"! :)\")\n",
    "    tree_classifier = tree.DecisionTreeClassifier(max_depth =  i)\n",
    "    tree_classifier.fit(train_preprocessed, train_data.target)\n",
    "\n",
    "    tree_train_predictions = tree_classifier.predict(train_preprocessed)\n",
    "    tree_test_predictions = tree_classifier.predict(test_preprocessed)\n",
    "\n",
    "\n",
    "    print(\"Árbol, porcentaje de aciertos en entrenamiento:\", np.mean(tree_train_predictions == train_data.target))\n",
    "    print(\"Árbol, porcentaje de aciertos en test:\", np.mean(tree_test_predictions == test_data.target))"
   ]
  },
  {
   "cell_type": "code",
   "execution_count": 9,
   "metadata": {},
   "outputs": [
    {
     "name": "stdout",
     "output_type": "stream",
     "text": [
      "Árbol, porcentaje de aciertos en entrenamiento: 0.9999116139296447\n",
      "Árbol, porcentaje de aciertos en test: 0.45313329792883694\n"
     ]
    }
   ],
   "source": [
    "tree_classifier = tree.DecisionTreeClassifier(criterion = \"entropy\")\n",
    "tree_classifier.fit(train_preprocessed, train_data.target)\n",
    "tree_train_predictions = tree_classifier.predict(train_preprocessed)\n",
    "tree_test_predictions = tree_classifier.predict(test_preprocessed)\n",
    "\n",
    "\n",
    "print(\"Árbol, porcentaje de aciertos en entrenamiento:\", np.mean(tree_train_predictions == train_data.target))\n",
    "print(\"Árbol, porcentaje de aciertos en test:\", np.mean(tree_test_predictions == test_data.target))"
   ]
  },
  {
   "cell_type": "markdown",
   "metadata": {},
   "source": [
    "Podemos ver un fuerte sobre-aprendizaje, por lo que es conveniente mejorar el árbol modificando los parámetros de entrenamiento para que aumente la capacidad de generalización del árbol."
   ]
  },
  {
   "cell_type": "markdown",
   "metadata": {},
   "source": [
    "### k Vecinos Más Cercanos (k-NN)"
   ]
  },
  {
   "cell_type": "code",
   "execution_count": 5,
   "metadata": {},
   "outputs": [
    {
     "name": "stdout",
     "output_type": "stream",
     "text": [
      "k-NN, porcentaje de aciertos en entrenamiento: 0.8789994696835779\n",
      "k-NN, porcentaje de aciertos en test: 0.6591874668082847\n"
     ]
    }
   ],
   "source": [
    "from sklearn import neighbors\n",
    "\n",
    "knn_classifier = neighbors.KNeighborsClassifier()\n",
    "knn_classifier.fit(train_preprocessed, train_data.target)\n",
    "\n",
    "knn_train_predictions = knn_classifier.predict(train_preprocessed)\n",
    "knn_test_predictions = knn_classifier.predict(test_preprocessed)\n",
    "\n",
    "print(\"k-NN, porcentaje de aciertos en entrenamiento:\", np.mean(knn_train_predictions == train_data.target))\n",
    "print(\"k-NN, porcentaje de aciertos en test:\", np.mean(knn_test_predictions == test_data.target))"
   ]
  },
  {
   "cell_type": "markdown",
   "metadata": {},
   "source": [
    "Según los resultados es posible que se pueda encontrar parámetros para el que la diferencia entre el error de entrenamiento y test no sea tan acusada.\n",
    "\n",
    "No obstante, el k-NN no es una técnica adecuada para este tipo de problemas donde las variables son del orden de los millares (palabras diferentes en el corpus) ya que sufre de la maldición de la dimensionalidad. Intenta buscar vecinos en un espacio de dimensiones muy elevado y además muy escasamente poblado (sparsity). En este caso el problema es muy significativo ya que el número de instancias de entrenamiento (11.314) es incluso menor que el número de dimensiones que se usa para representarlas (130.107)."
   ]
  },
  {
   "cell_type": "code",
   "execution_count": 6,
   "metadata": {},
   "outputs": [
    {
     "name": "stdout",
     "output_type": "stream",
     "text": [
      "Perceptrón, porcentaje de aciertos en entrenamiento: 0.9996464557185788\n",
      "Perceptrón, porcentaje de aciertos en test: 0.8603292618162507\n"
     ]
    }
   ],
   "source": [
    "from sklearn.neural_network import MLPClassifier\n",
    "\n",
    "# Creamos el clasificador con los valores por defecto\n",
    "mlp_classifier = MLPClassifier()\n",
    "mlp_classifier.fit(train_preprocessed, train_data.target)\n",
    "\n",
    "mlp_train_predictions = mlp_classifier.predict(train_preprocessed)\n",
    "mlp_test_predictions = mlp_classifier.predict(test_preprocessed)\n",
    "\n",
    "print(\"Perceptrón, porcentaje de aciertos en entrenamiento:\", np.mean(mlp_train_predictions == train_data.target))\n",
    "print(\"Perceptrón, porcentaje de aciertos en test:\", np.mean(mlp_test_predictions == test_data.target))"
   ]
  },
  {
   "cell_type": "markdown",
   "metadata": {},
   "source": [
    "### Naive Bayes"
   ]
  },
  {
   "cell_type": "markdown",
   "metadata": {},
   "source": [
    "El clasificador [Naive Bayes](https://en.wikipedia.org/wiki/Naive_Bayes_classifier) es un clasificador probabilístico muy simple y muy poderoso en este (y otros) contextos. \n",
    "\n",
    "El clasificador se llama \"naive\" es decir \"ingenuo\" porque asume que todas las variables son independientes entre sí. En este caso, que la ocurrencia de una palabra en un texto es independiente del resto de palabras. Esto no es así (en un texto de hardware es probable encontrar palabras como \"CPU\" y \"motherboard\", mientras que en uno de religión encontraremos \"pray\" y \"God\"). Pese a esta gran simplificación de la realidad el clasificador funciona muy bien.\n",
    "\n",
    "El clasificador aprende cómo de frecuente es cada clase y cómo de frecuente es que una palabra ocurra en cada clase. A la hora de clasificar un texto nuevo, el clasificador estima la probabilidad de que pertenca a cada una de las clases y elige la más alta. Para estimar la probabilidad lo que hace es multiplicar las probabilidades de cada palabra $x_i$ dada cada clase  $C$. \n",
    "\n",
    "\\begin{equation*}\n",
    "\\hat y = argmax_k\\  p(C_k) \\prod_{i=1}^n p(x_i \\mid C_k)\n",
    "\\end{equation*}\n",
    "\n",
    "Los clasificadores Naive Bayes Classifiers se entrenan muy rápido, pero no son los mejores. Suelen ser utilizados como clasificadores de referencia.\n"
   ]
  },
  {
   "cell_type": "markdown",
   "metadata": {},
   "source": [
    "Existen tres tipos de Naive Bayes que se suelen utilizar en PLN según el tipo de problema:\n",
    " - Naive Bayes Multinomial que se utiliza cuando la frecuencia de las palabras es relevante a la hora de la clasificación, como es el caso que estamos viendo de clasificación de textos según el tema. \n",
    " - Naive Bayes Multinomial Binarizado que se utiliza cuando lo importante es la aparición de las palabras (o de determinadas palabras), no así su frecuencia. Es el caso de los problemas de análisis de sentimiento (sentiment analysis) de un texto, donde lo que importa es la presencia de palabras que indiquen un sentimiento positivo o negativo, no su frecuencia.  \n",
    " - Naive Bayes Bernouilli que se utiliza cuando es la ausencia de determinadas palabras la que importa. Por tanto, suele ser adecuado para clasificar documentos cortos (menos variedad de palabras) y para identificar contenido muy específico como SPAM y contenido adulto. "
   ]
  },
  {
   "cell_type": "code",
   "execution_count": 7,
   "metadata": {},
   "outputs": [
    {
     "name": "stdout",
     "output_type": "stream",
     "text": [
      "Naive Bayes, porcentaje de aciertos en entrenamiento: 0.9326498143892522\n",
      "Naive Bayes, porcentaje de aciertos en test: 0.7738980350504514\n"
     ]
    }
   ],
   "source": [
    "from sklearn.naive_bayes import MultinomialNB\n",
    "\n",
    "nb_classifier = MultinomialNB()\n",
    "\n",
    "nb_classifier.fit(train_preprocessed, train_data.target)\n",
    "\n",
    "nb_train_predictions = nb_classifier.predict(train_preprocessed)\n",
    "nb_test_predictions = nb_classifier.predict(test_preprocessed)\n",
    "\n",
    "\n",
    "\n",
    "print(\"Naive Bayes, porcentaje de aciertos en entrenamiento:\", np.mean(nb_train_predictions == train_data.target))\n",
    "print(\"Naive Bayes, porcentaje de aciertos en test:\", np.mean(nb_test_predictions == test_data.target))"
   ]
  },
  {
   "cell_type": "code",
   "execution_count": 12,
   "metadata": {},
   "outputs": [
    {
     "name": "stdout",
     "output_type": "stream",
     "text": [
      "Naive Bayes, porcentaje de aciertos en entrenamiento: 0.7534912497790348\n",
      "Naive Bayes, porcentaje de aciertos en test: 0.49814126394052044\n"
     ]
    }
   ],
   "source": [
    "from sklearn.naive_bayes import MultinomialNB\n",
    "from sklearn.naive_bayes import BernoulliNB\n",
    "nb_classifier = BernoulliNB()\n",
    "\n",
    "nb_classifier.fit(train_preprocessed, train_data.target)\n",
    "\n",
    "nb_train_predictions = nb_classifier.predict(train_preprocessed)\n",
    "nb_test_predictions = nb_classifier.predict(test_preprocessed)\n",
    "\n",
    "\n",
    "\n",
    "print(\"Naive Bayes, porcentaje de aciertos en entrenamiento:\", np.mean(nb_train_predictions == train_data.target))\n",
    "print(\"Naive Bayes, porcentaje de aciertos en test:\", np.mean(nb_test_predictions == test_data.target))"
   ]
  },
  {
   "cell_type": "code",
   "execution_count": 52,
   "metadata": {},
   "outputs": [
    {
     "name": "stdout",
     "output_type": "stream",
     "text": [
      "Iteración 5 ! :)\n",
      "Naive Bayes, porcentaje de aciertos en entrenamiento: 0.9388368393141241\n",
      "Naive Bayes, porcentaje de aciertos en test: 0.7817312798725438\n",
      "Iteración 2.5 ! :)\n",
      "Naive Bayes, porcentaje de aciertos en entrenamiento: 0.9571327558776737\n",
      "Naive Bayes, porcentaje de aciertos en test: 0.7955390334572491\n",
      "Iteración 1.25 ! :)\n",
      "Naive Bayes, porcentaje de aciertos en entrenamiento: 0.9737493371044723\n",
      "Naive Bayes, porcentaje de aciertos en test: 0.8057620817843866\n",
      "Iteración 0.625 ! :)\n",
      "Naive Bayes, porcentaje de aciertos en entrenamiento: 0.9842672794767544\n",
      "Naive Bayes, porcentaje de aciertos en test: 0.8127987254381307\n",
      "Iteración 0.3125 ! :)\n",
      "Naive Bayes, porcentaje de aciertos en entrenamiento: 0.9910730068941135\n",
      "Naive Bayes, porcentaje de aciertos en test: 0.8179766330323951\n",
      "Iteración 0.15625 ! :)\n",
      "Naive Bayes, porcentaje de aciertos en entrenamiento: 0.9954923104118791\n",
      "Naive Bayes, porcentaje de aciertos en test: 0.8230217737652682\n",
      "Iteración 0.078125 ! :)\n",
      "Naive Bayes, porcentaje de aciertos en entrenamiento: 0.9977019621707619\n",
      "Naive Bayes, porcentaje de aciertos en test: 0.8260754115772703\n",
      "Iteración 0.0390625 ! :)\n",
      "Naive Bayes, porcentaje de aciertos en entrenamiento: 0.9984974368039597\n",
      "Naive Bayes, porcentaje de aciertos en test: 0.8271375464684015\n",
      "Iteración 0.01953125 ! :)\n",
      "Naive Bayes, porcentaje de aciertos en entrenamiento: 0.9991161392964468\n",
      "Naive Bayes, porcentaje de aciertos en test: 0.8285979819437068\n",
      "Iteración 0.009765625 ! :)\n",
      "Naive Bayes, porcentaje de aciertos en entrenamiento: 0.9992929114371575\n",
      "Naive Bayes, porcentaje de aciertos en test: 0.8301911842804036\n",
      "Iteración 0.0048828125 ! :)\n",
      "Naive Bayes, porcentaje de aciertos en entrenamiento: 0.9993812975075128\n",
      "Naive Bayes, porcentaje de aciertos en test: 0.8320499203398831\n",
      "Iteración 0.00244140625 ! :)\n",
      "Naive Bayes, porcentaje de aciertos en entrenamiento: 0.9994696835778681\n",
      "Naive Bayes, porcentaje de aciertos en test: 0.8293945831120553\n",
      "Iteración 0.001220703125 ! :)\n",
      "Naive Bayes, porcentaje de aciertos en entrenamiento: 0.9994696835778681\n",
      "Naive Bayes, porcentaje de aciertos en test: 0.8276686139139671\n",
      "Iteración 0.0006103515625 ! :)\n",
      "Naive Bayes, porcentaje de aciertos en entrenamiento: 0.9994696835778681\n",
      "Naive Bayes, porcentaje de aciertos en test: 0.8251460435475305\n",
      "Iteración 0.00030517578125 ! :)\n",
      "Naive Bayes, porcentaje de aciertos en entrenamiento: 0.9994696835778681\n",
      "Naive Bayes, porcentaje de aciertos en test: 0.8238183749336165\n",
      "Iteración 0.000152587890625 ! :)\n",
      "Naive Bayes, porcentaje de aciertos en entrenamiento: 0.9995580696482235\n",
      "Naive Bayes, porcentaje de aciertos en test: 0.8231545406266596\n",
      "Iteración 7.62939453125e-05 ! :)\n",
      "Naive Bayes, porcentaje de aciertos en entrenamiento: 0.9995580696482235\n",
      "Naive Bayes, porcentaje de aciertos en test: 0.8218268720127456\n",
      "Iteración 3.814697265625e-05 ! :)\n",
      "Naive Bayes, porcentaje de aciertos en entrenamiento: 0.9995580696482235\n",
      "Naive Bayes, porcentaje de aciertos en test: 0.820631970260223\n",
      "Iteración 1.9073486328125e-05 ! :)\n",
      "Naive Bayes, porcentaje de aciertos en entrenamiento: 0.9995580696482235\n",
      "Naive Bayes, porcentaje de aciertos en test: 0.8197026022304833\n",
      "Iteración 9.5367431640625e-06 ! :)\n",
      "Naive Bayes, porcentaje de aciertos en entrenamiento: 0.9995580696482235\n",
      "Naive Bayes, porcentaje de aciertos en test: 0.8181093998937865\n",
      "Iteración 4.76837158203125e-06 ! :)\n",
      "Naive Bayes, porcentaje de aciertos en entrenamiento: 0.9996464557185788\n",
      "Naive Bayes, porcentaje de aciertos en test: 0.8178438661710037\n",
      "Iteración 2.384185791015625e-06 ! :)\n",
      "Naive Bayes, porcentaje de aciertos en entrenamiento: 0.9996464557185788\n",
      "Naive Bayes, porcentaje de aciertos en test: 0.8170472650026553\n",
      "Iteración 1.1920928955078125e-06 ! :)\n",
      "Naive Bayes, porcentaje de aciertos en entrenamiento: 0.9996464557185788\n",
      "Naive Bayes, porcentaje de aciertos en test: 0.8165161975570897\n"
     ]
    }
   ],
   "source": [
    "from sklearn.naive_bayes import MultinomialNB\n",
    "\n",
    "train_data_predictions_gr1 = []\n",
    "test_data_predictions_gr1 = []\n",
    "alphas = []\n",
    "x = 5\n",
    "while(x >= 0.000001):\n",
    "    \n",
    "    alphas.append(x)\n",
    "    \n",
    "    nb_classifier = MultinomialNB(alpha = x)\n",
    "    print(\"Iteración\",x,\"! :)\")\n",
    "    nb_classifier.fit(train_preprocessed, train_data.target)\n",
    "\n",
    "    nb_train_predictions = nb_classifier.predict(train_preprocessed)\n",
    "    nb_test_predictions = nb_classifier.predict(test_preprocessed)\n",
    "\n",
    "    train_data_predictions_gr1.append(np.mean(nb_train_predictions == train_data.target))\n",
    "    test_data_predictions_gr1.append(np.mean(nb_test_predictions == test_data.target))\n",
    "    \n",
    "    print(\"Naive Bayes, porcentaje de aciertos en entrenamiento:\", np.mean(nb_train_predictions == train_data.target))\n",
    "    print(\"Naive Bayes, porcentaje de aciertos en test:\", np.mean(nb_test_predictions == test_data.target))\n",
    "    \n",
    "    \n",
    "    x = x/2\n",
    "beta = alphas.copy()"
   ]
  },
  {
   "cell_type": "code",
   "execution_count": 60,
   "metadata": {},
   "outputs": [
    {
     "data": {
      "image/png": "[encoded data removed]",
      "text/plain": [
       "<Figure size 432x288 with 1 Axes>"
      ]
     },
     "metadata": {},
     "output_type": "display_data"
    }
   ],
   "source": [
    "import matplotlib.pyplot as plt\n",
    "from math import log\n",
    "\n",
    "alphas = [log(x,10) for x in beta]\n",
    "\n",
    "# Draw lines\n",
    "plt.plot(alphas, train_data_predictions_gr1, label=\"Entrenamiento\", color = \"deepskyblue\")\n",
    "plt.plot(alphas, test_data_predictions_gr1, label=\"Test\", color = \"salmon\")\n",
    "\n",
    "# Create plot\n",
    "plt.title(\"Curva de aprendizaje\")\n",
    "plt.xlabel(\"Orden del valor de alpha\"), plt.ylabel(\"Precisión\"), plt.legend(loc=\"best\")\n",
    "plt.tight_layout()\n",
    "plt.show()"
   ]
  },
  {
   "cell_type": "code",
   "execution_count": 61,
   "metadata": {},
   "outputs": [
    {
     "name": "stdout",
     "output_type": "stream",
     "text": [
      "Iteración 0.01 ! :)\n",
      "Naive Bayes, porcentaje de aciertos en entrenamiento: 0.9992045253668022\n",
      "Naive Bayes, porcentaje de aciertos en test: 0.8300584174190122\n",
      "Iteración 0.0095 ! :)\n",
      "Naive Bayes, porcentaje de aciertos en entrenamiento: 0.9992929114371575\n",
      "Naive Bayes, porcentaje de aciertos en test: 0.8304567180031864\n",
      "Iteración 0.009 ! :)\n",
      "Naive Bayes, porcentaje de aciertos en entrenamiento: 0.9992929114371575\n",
      "Naive Bayes, porcentaje de aciertos en test: 0.8304567180031864\n",
      "Iteración 0.008499999999999999 ! :)\n",
      "Naive Bayes, porcentaje de aciertos en entrenamiento: 0.9992929114371575\n",
      "Naive Bayes, porcentaje de aciertos en test: 0.8311205523101434\n",
      "Iteración 0.007999999999999998 ! :)\n",
      "Naive Bayes, porcentaje de aciertos en entrenamiento: 0.9992929114371575\n",
      "Naive Bayes, porcentaje de aciertos en test: 0.8308550185873605\n",
      "Iteración 0.007499999999999998 ! :)\n",
      "Naive Bayes, porcentaje de aciertos en entrenamiento: 0.9992929114371575\n",
      "Naive Bayes, porcentaje de aciertos en test: 0.8311205523101434\n",
      "Iteración 0.0069999999999999975 ! :)\n",
      "Naive Bayes, porcentaje de aciertos en entrenamiento: 0.9992929114371575\n",
      "Naive Bayes, porcentaje de aciertos en test: 0.8311205523101434\n",
      "Iteración 0.006499999999999997 ! :)\n",
      "Naive Bayes, porcentaje de aciertos en entrenamiento: 0.9992929114371575\n",
      "Naive Bayes, porcentaje de aciertos en test: 0.8315188528943176\n",
      "Iteración 0.005999999999999997 ! :)\n",
      "Naive Bayes, porcentaje de aciertos en entrenamiento: 0.9992929114371575\n",
      "Naive Bayes, porcentaje de aciertos en test: 0.8321826872012745\n",
      "Iteración 0.005499999999999996 ! :)\n",
      "Naive Bayes, porcentaje de aciertos en entrenamiento: 0.9992929114371575\n",
      "Naive Bayes, porcentaje de aciertos en test: 0.8323154540626659\n",
      "Iteración 0.004999999999999996 ! :)\n",
      "Naive Bayes, porcentaje de aciertos en entrenamiento: 0.9993812975075128\n",
      "Naive Bayes, porcentaje de aciertos en test: 0.8323154540626659\n",
      "Iteración 0.004499999999999995 ! :)\n",
      "Naive Bayes, porcentaje de aciertos en entrenamiento: 0.9994696835778681\n",
      "Naive Bayes, porcentaje de aciertos en test: 0.8323154540626659\n",
      "Iteración 0.003999999999999995 ! :)\n",
      "Naive Bayes, porcentaje de aciertos en entrenamiento: 0.9994696835778681\n",
      "Naive Bayes, porcentaje de aciertos en test: 0.8313860860329262\n",
      "Iteración 0.003499999999999995 ! :)\n",
      "Naive Bayes, porcentaje de aciertos en entrenamiento: 0.9994696835778681\n",
      "Naive Bayes, porcentaje de aciertos en test: 0.8307222517259693\n",
      "Iteración 0.002999999999999995 ! :)\n",
      "Naive Bayes, porcentaje de aciertos en entrenamiento: 0.9994696835778681\n",
      "Naive Bayes, porcentaje de aciertos en test: 0.8297928836962294\n",
      "Iteración 0.002499999999999995 ! :)\n",
      "Naive Bayes, porcentaje de aciertos en entrenamiento: 0.9994696835778681\n",
      "Naive Bayes, porcentaje de aciertos en test: 0.8295273499734467\n",
      "Iteración 0.001999999999999995 ! :)\n",
      "Naive Bayes, porcentaje de aciertos en entrenamiento: 0.9994696835778681\n",
      "Naive Bayes, porcentaje de aciertos en test: 0.8288635156664896\n",
      "Iteración 0.0014999999999999948 ! :)\n",
      "Naive Bayes, porcentaje de aciertos en entrenamiento: 0.9994696835778681\n",
      "Naive Bayes, porcentaje de aciertos en test: 0.8283324482209241\n"
     ]
    }
   ],
   "source": [
    "from sklearn.naive_bayes import MultinomialNB\n",
    "\n",
    "train_data_predictions_gr1 = []\n",
    "test_data_predictions_gr1 = []\n",
    "alphas = []\n",
    "x = 0.01\n",
    "while(x >= 0.001):\n",
    "    \n",
    "    alphas.append(x)\n",
    "    \n",
    "    nb_classifier = MultinomialNB(alpha = x)\n",
    "    print(\"Iteración\",x,\"! :)\")\n",
    "    nb_classifier.fit(train_preprocessed, train_data.target)\n",
    "\n",
    "    nb_train_predictions = nb_classifier.predict(train_preprocessed)\n",
    "    nb_test_predictions = nb_classifier.predict(test_preprocessed)\n",
    "\n",
    "    train_data_predictions_gr1.append(np.mean(nb_train_predictions == train_data.target))\n",
    "    test_data_predictions_gr1.append(np.mean(nb_test_predictions == test_data.target))\n",
    "    \n",
    "    print(\"Naive Bayes, porcentaje de aciertos en entrenamiento:\", np.mean(nb_train_predictions == train_data.target))\n",
    "    print(\"Naive Bayes, porcentaje de aciertos en test:\", np.mean(nb_test_predictions == test_data.target))\n",
    "    \n",
    "    \n",
    "    x = x-0.0005\n",
    "beta = alphas.copy()"
   ]
  },
  {
   "cell_type": "code",
   "execution_count": 72,
   "metadata": {
    "scrolled": true
   },
   "outputs": [
    {
     "data": {
      "image/png": "[encoded data removed]",
      "text/plain": [
       "<Figure size 432x288 with 1 Axes>"
      ]
     },
     "metadata": {},
     "output_type": "display_data"
    }
   ],
   "source": [
    "import matplotlib.pyplot as plt\n",
    "from math import log\n",
    "\n",
    "alphas = [x for x in beta]\n",
    "\n",
    "# Draw lines\n",
    "plt.plot(alphas, test_data_predictions_gr1, label=\"Test\", color = \"darkkhaki\")\n",
    "\n",
    "# Create plot\n",
    "plt.title(\"Curva de aprendizaje\")\n",
    "plt.xlabel(\"Valor de alpha\"), plt.ylabel(\"Precisión\"), plt.legend(loc=\"best\")\n",
    "plt.tight_layout()\n",
    "plt.show()"
   ]
  },
  {
   "cell_type": "markdown",
   "metadata": {},
   "source": [
    "No pintamos la segunda porque no se percibe bien donde está el pico"
   ]
  },
  {
   "cell_type": "code",
   "execution_count": 73,
   "metadata": {
    "scrolled": true
   },
   "outputs": [
    {
     "name": "stdout",
     "output_type": "stream",
     "text": [
      "Naive Bayes, porcentaje de aciertos en entrenamiento: 0.9993812975075128\n",
      "Naive Bayes, porcentaje de aciertos en test: 0.8323154540626659\n"
     ]
    }
   ],
   "source": [
    "nb_classifier = MultinomialNB(alpha = 0.005)\n",
    "nb_classifier.fit(train_preprocessed, train_data.target)\n",
    "nb_train_predictions = nb_classifier.predict(train_preprocessed)\n",
    "nb_test_predictions = nb_classifier.predict(test_preprocessed)\n",
    "\n",
    "train_data_predictions_gr1.append(np.mean(nb_train_predictions == train_data.target))\n",
    "test_data_predictions_gr1.append(np.mean(nb_test_predictions == test_data.target))\n",
    "    \n",
    "print(\"Naive Bayes, porcentaje de aciertos en entrenamiento:\", np.mean(nb_train_predictions == train_data.target))\n",
    "print(\"Naive Bayes, porcentaje de aciertos en test:\", np.mean(nb_test_predictions == test_data.target))"
   ]
  },
  {
   "cell_type": "markdown",
   "metadata": {},
   "source": [
    "### Perceptrón multicapa"
   ]
  },
  {
   "cell_type": "markdown",
   "metadata": {},
   "source": [
    "El perceptrón multicapa es también un clasificador adecuado. Sin embargo, el entrenamiento es mucho más costoso en tiempo. En este caso vamos a usar la implementación del perceptrón multicapa para problemas de clasificación.\n",
    "\n",
    "**AVISO: Ejecutar la celda siguiente lleva muchos minutos**"
   ]
  },
  {
   "cell_type": "code",
   "execution_count": 92,
   "metadata": {},
   "outputs": [
    {
     "name": "stdout",
     "output_type": "stream",
     "text": [
      "20:44:57\n"
     ]
    }
   ],
   "source": [
    "from sklearn.neural_network import MLPClassifier\n",
    "\n",
    "alphasmlp = []\n",
    "activations = ['identity', 'logistic', 'tanh', 'relu']\n",
    "solvers = ['sgd', 'adam']\n",
    "hidden_layer_size = [(10,), (30,), (100,), (10,10,)]\n",
    "\n",
    "x = 1\n",
    "\n",
    "while x > 0.000001:\n",
    "    alphasmlp.append(x)\n",
    "    x = x/10\n",
    "\n",
    "results = []\n",
    "\n"
   ]
  },
  {
   "cell_type": "code",
   "execution_count": 91,
   "metadata": {},
   "outputs": [
    {
     "name": "stderr",
     "output_type": "stream",
     "text": [
      "c:\\software\\programacion\\anaconda3\\lib\\site-packages\\sklearn\\neural_network\\multilayer_perceptron.py:564: ConvergenceWarning: Stochastic Optimizer: Maximum iterations (10) reached and the optimization hasn't converged yet.\n",
      "  % self.max_iter, ConvergenceWarning)\n"
     ]
    },
    {
     "ename": "NameError",
     "evalue": "name 'time' is not defined",
     "output_type": "error",
     "traceback": [
      "\u001b[1;31m---------------------------------------------------------------------------\u001b[0m",
      "\u001b[1;31mNameError\u001b[0m                                 Traceback (most recent call last)",
      "\u001b[1;32m<ipython-input-91-f67f62fefe9e>\u001b[0m in \u001b[0;36m<module>\u001b[1;34m()\u001b[0m\n\u001b[0;32m     12\u001b[0m                 \u001b[0mmlp_test_predictions\u001b[0m \u001b[1;33m=\u001b[0m \u001b[0mmlp_classifier\u001b[0m\u001b[1;33m.\u001b[0m\u001b[0mpredict\u001b[0m\u001b[1;33m(\u001b[0m\u001b[0mtest_preprocessed\u001b[0m\u001b[1;33m)\u001b[0m\u001b[1;33m\u001b[0m\u001b[0m\n\u001b[0;32m     13\u001b[0m                 \u001b[0mresults\u001b[0m\u001b[1;33m.\u001b[0m\u001b[0mappend\u001b[0m\u001b[1;33m(\u001b[0m\u001b[1;33m(\u001b[0m\u001b[0malph\u001b[0m\u001b[1;33m,\u001b[0m \u001b[0mact\u001b[0m\u001b[1;33m,\u001b[0m \u001b[0msol\u001b[0m\u001b[1;33m,\u001b[0m \u001b[0mhls\u001b[0m\u001b[1;33m,\u001b[0m \u001b[0mnp\u001b[0m\u001b[1;33m.\u001b[0m\u001b[0mmean\u001b[0m\u001b[1;33m(\u001b[0m\u001b[0mmlp_train_predictions\u001b[0m \u001b[1;33m==\u001b[0m \u001b[0mtrain_data\u001b[0m\u001b[1;33m.\u001b[0m\u001b[0mtarget\u001b[0m\u001b[1;33m)\u001b[0m\u001b[1;33m,\u001b[0m  \u001b[0mnp\u001b[0m\u001b[1;33m.\u001b[0m\u001b[0mmean\u001b[0m\u001b[1;33m(\u001b[0m\u001b[0mmlp_test_predictions\u001b[0m \u001b[1;33m==\u001b[0m \u001b[0mtest_data\u001b[0m\u001b[1;33m.\u001b[0m\u001b[0mtarget\u001b[0m\u001b[1;33m)\u001b[0m\u001b[1;33m)\u001b[0m\u001b[1;33m)\u001b[0m\u001b[1;33m\u001b[0m\u001b[0m\n\u001b[1;32m---> 14\u001b[1;33m                 \u001b[0mprint\u001b[0m\u001b[1;33m(\u001b[0m\u001b[0mtime\u001b[0m\u001b[1;33m.\u001b[0m\u001b[0mstrftime\u001b[0m\u001b[1;33m(\u001b[0m\u001b[1;34m\"%H:%M:%S\"\u001b[0m\u001b[1;33m)\u001b[0m\u001b[1;33m)\u001b[0m\u001b[1;33m\u001b[0m\u001b[0m\n\u001b[0m\u001b[0;32m     15\u001b[0m                 \u001b[0mprint\u001b[0m\u001b[1;33m(\u001b[0m\u001b[1;34m\"Parámetros = \"\u001b[0m\u001b[1;33m,\u001b[0m\u001b[1;33m(\u001b[0m\u001b[0malph\u001b[0m\u001b[1;33m,\u001b[0m \u001b[0mact\u001b[0m\u001b[1;33m,\u001b[0m \u001b[0msol\u001b[0m\u001b[1;33m,\u001b[0m \u001b[0mhls\u001b[0m\u001b[1;33m,\u001b[0m \u001b[0mnp\u001b[0m\u001b[1;33m.\u001b[0m\u001b[0mmean\u001b[0m\u001b[1;33m(\u001b[0m\u001b[0mmlp_train_predictions\u001b[0m \u001b[1;33m==\u001b[0m \u001b[0mtrain_data\u001b[0m\u001b[1;33m.\u001b[0m\u001b[0mtarget\u001b[0m\u001b[1;33m)\u001b[0m\u001b[1;33m,\u001b[0m  \u001b[0mnp\u001b[0m\u001b[1;33m.\u001b[0m\u001b[0mmean\u001b[0m\u001b[1;33m(\u001b[0m\u001b[0mmlp_test_predictions\u001b[0m \u001b[1;33m==\u001b[0m \u001b[0mtest_data\u001b[0m\u001b[1;33m.\u001b[0m\u001b[0mtarget\u001b[0m\u001b[1;33m)\u001b[0m\u001b[1;33m)\u001b[0m\u001b[1;33m)\u001b[0m\u001b[1;33m\u001b[0m\u001b[0m\n\u001b[0;32m     16\u001b[0m                 \u001b[0mprint\u001b[0m\u001b[1;33m(\u001b[0m\u001b[1;34m\"Perceptrón, porcentaje de aciertos en entrenamiento:\"\u001b[0m\u001b[1;33m,\u001b[0m \u001b[0mnp\u001b[0m\u001b[1;33m.\u001b[0m\u001b[0mmean\u001b[0m\u001b[1;33m(\u001b[0m\u001b[0mmlp_train_predictions\u001b[0m \u001b[1;33m==\u001b[0m \u001b[0mtrain_data\u001b[0m\u001b[1;33m.\u001b[0m\u001b[0mtarget\u001b[0m\u001b[1;33m)\u001b[0m\u001b[1;33m)\u001b[0m\u001b[1;33m\u001b[0m\u001b[0m\n",
      "\u001b[1;31mNameError\u001b[0m: name 'time' is not defined"
     ]
    }
   ],
   "source": [
    "import time\n",
    "for alph in alphasmlp:\n",
    "    for act in activations:\n",
    "        for sol in solvers:\n",
    "            for hls in hidden_layer_size:\n",
    "                # Creamos el clasificador con los valores por defecto\n",
    "                mlp_classifier = MLPClassifier(max_iter = 10, alpha = alph, \n",
    "                                               solver = sol, hidden_layer_sizes = hls,\n",
    "                                              activation = act)\n",
    "                mlp_classifier.fit(train_preprocessed, train_data.target)\n",
    "\n",
    "                mlp_train_predictions = mlp_classifier.predict(train_preprocessed)\n",
    "                mlp_test_predictions = mlp_classifier.predict(test_preprocessed)\n",
    "                results.append((alph, act, sol, hls, np.mean(mlp_train_predictions == train_data.target),  np.mean(mlp_test_predictions == test_data.target)))\n",
    "                print(time.strftime(\"%H:%M:%S\"))\n",
    "                print(\"Parámetros = \",(alph, act, sol, hls, np.mean(mlp_train_predictions == train_data.target),  np.mean(mlp_test_predictions == test_data.target)))\n",
    "                print(\"Perceptrón, porcentaje de aciertos en entrenamiento:\", np.mean(mlp_train_predictions == train_data.target))\n",
    "                print(\"Perceptrón, porcentaje de aciertos en test:\", np.mean(mlp_test_predictions == test_data.target))"
   ]
  },
  {
   "cell_type": "markdown",
   "metadata": {},
   "source": [
    "### Otros clasificadores"
   ]
  },
  {
   "cell_type": "markdown",
   "metadata": {},
   "source": [
    "Otro clasificador que se usa en PLN es la [regresión logística](https://en.wikipedia.org/wiki/Logistic_regression) (sklearn.naive_bayes.MultinomialNB) que es básicamente un modelo de regresión para variables dependientes binarias, o las más sofisticadas Máquinas de Vectores de Soporte o  [Support Vector Machines](https://en.wikipedia.org/wiki/Support_vector_machine) (`sklearn.linear_model.LogisticRegression`). \n",
    "\n",
    "Por último, mencionar que existen otras corrientes más actuales que usan \"aprendizaje profundo\" o deep learning con aún mejores resultados."
   ]
  },
  {
   "cell_type": "markdown",
   "metadata": {},
   "source": [
    "## Evaluación detallada"
   ]
  },
  {
   "cell_type": "markdown",
   "metadata": {},
   "source": [
    "En un problema de clasificación multiclase suele ser muy interesante analizar dos cosas:\n",
    " - El rendimiento de la clasificación en cada una de las clases\n",
    " - La matriz de confusión\n",
    "\n",
    "Lo primero nos permite analizar en qué clases funciona mejor o peor el clasificador, de acuerdo a métricas como la precisión (cuando predice dicha clase cuánto acierta) y la exhaustividad  (cuántos ejemplos de una clase predice correctamente). También podemos ver la media (armònica) entre ambas medidas (F1 score).\n",
    "\n",
    "La matriz nos permite ver qué clases se confunden más entre sí y si dicha confusión es simétrica o no. \n",
    "    "
   ]
  },
  {
   "cell_type": "code",
   "execution_count": 8,
   "metadata": {},
   "outputs": [
    {
     "name": "stdout",
     "output_type": "stream",
     "text": [
      "                          precision    recall  f1-score   support\n",
      "\n",
      "             alt.atheism       0.80      0.52      0.63       319\n",
      "           comp.graphics       0.81      0.65      0.72       389\n",
      " comp.os.ms-windows.misc       0.82      0.65      0.73       394\n",
      "comp.sys.ibm.pc.hardware       0.67      0.78      0.72       392\n",
      "   comp.sys.mac.hardware       0.86      0.77      0.81       385\n",
      "          comp.windows.x       0.89      0.75      0.82       395\n",
      "            misc.forsale       0.93      0.69      0.80       390\n",
      "               rec.autos       0.85      0.92      0.88       396\n",
      "         rec.motorcycles       0.94      0.93      0.93       398\n",
      "      rec.sport.baseball       0.92      0.90      0.91       397\n",
      "        rec.sport.hockey       0.89      0.97      0.93       399\n",
      "               sci.crypt       0.59      0.97      0.74       396\n",
      "         sci.electronics       0.84      0.60      0.70       393\n",
      "                 sci.med       0.92      0.74      0.82       396\n",
      "               sci.space       0.84      0.89      0.87       394\n",
      "  soc.religion.christian       0.44      0.98      0.61       398\n",
      "      talk.politics.guns       0.64      0.94      0.76       364\n",
      "   talk.politics.mideast       0.93      0.91      0.92       376\n",
      "      talk.politics.misc       0.96      0.42      0.58       310\n",
      "      talk.religion.misc       0.97      0.14      0.24       251\n",
      "\n",
      "             avg / total       0.82      0.77      0.77      7532\n",
      "\n"
     ]
    }
   ],
   "source": [
    "from sklearn.metrics import classification_report, confusion_matrix\n",
    "\n",
    "# NOTA: Aquí elegimos analizar un determinado clasificador y sus predicciones \n",
    "# Por ejemplo el naive bayes\n",
    "classifier=nb_classifier\n",
    "predictions = nb_test_predictions\n",
    "\n",
    "print(classification_report(test_data.target, predictions, target_names=test_data.target_names))"
   ]
  },
  {
   "cell_type": "markdown",
   "metadata": {},
   "source": [
    "En el caso del naive Bayes hay clases que se clasifican muy bien, como `rec.sport.baseball`, `rec.sport.hockey` y `talk.politics.mideast`.\n",
    "\n",
    "Sin embargo, es interesante que hay clases como `talk.religion.misc` con una precisión muy alta y una exhaustividad muy bajo, y por otro lado clases donde sucede lo contrario, aunque no tan acusado, como en `soc.religion.christian`.\n",
    "\n",
    "La exhaustividad muy baja indica que esos textos tienden a confundirse mucho con otros. Una precisión baja por el contrario quiere decir que el clasificador no ha sido capaz de encontrar rasgos distintivos para dichos textos que los diferencien de otros.\n",
    "\n",
    "Podemos echar un vistazo más a la matriz de confusión para entender mejor este problema."
   ]
  },
  {
   "cell_type": "code",
   "execution_count": 9,
   "metadata": {},
   "outputs": [
    {
     "data": {
      "text/plain": [
       "(array([ 0.5,  1.5,  2.5,  3.5,  4.5,  5.5,  6.5,  7.5,  8.5,  9.5, 10.5,\n",
       "        11.5, 12.5, 13.5, 14.5, 15.5, 16.5, 17.5, 18.5, 19.5]),\n",
       " <a list of 20 Text xticklabel objects>)"
      ]
     },
     "execution_count": 9,
     "metadata": {},
     "output_type": "execute_result"
    },
    {
     "data": {
      "image/png": "[encoded data removed]",
      "text/plain": [
       "<Figure size 1080x720 with 2 Axes>"
      ]
     },
     "metadata": {},
     "output_type": "display_data"
    }
   ],
   "source": [
    "%matplotlib inline\n",
    "import pandas as pd\n",
    "import seaborn as sn\n",
    "import matplotlib.pyplot as plt\n",
    "\n",
    "conf_matrix = confusion_matrix(test_data.target, predictions)\n",
    "conf_matrix_df = pd.DataFrame(conf_matrix, index=test_data.target_names, columns=test_data.target_names)\n",
    "\n",
    "plt.figure(figsize=(15, 10))\n",
    "sn.heatmap(conf_matrix_df, annot=True, vmin=0, vmax=conf_matrix.max(), fmt='d', cmap=\"YlGnBu\")\n",
    "plt.yticks(rotation=0)\n",
    "plt.xticks(rotation=90)"
   ]
  },
  {
   "cell_type": "markdown",
   "metadata": {},
   "source": [
    "Ahora podemos comprobar la fuente de las confusiones. \n",
    "- Una fila con muchas observaciones fuera de la celda de la diagonal principal, indica una exhaustividad baja. \n",
    "    - Si las observaciones se concentran en alguna celda fuera de la diagonal, indica que son clasificadas (erróneamente) como de la clase a la que pertenezca su fila. Es el caso de las observaciones de `talk.religion.misc` que son clasificadas como `soc.religion.christian`, las de `talk.politics.misc`  ques son clasificadas como `talk.politics.guns` y las de `alt.atheism` que son clasificadas como `soc.religion.christian`. Es interesante que ninguna de estas confusiones es simétrica, lo que quiere decir que, por ejemplo, los textos de `soc.religion.christian` tienen suficientes rasgos distintivos para ser diferenciados de `alt.atheism`.\n",
    "- Una columna con muchas observaciones fuera de la celda de la diagonal principal, indica una una precisión baja, o una contaminación en la precisión del clasificador. \n",
    "    - Es el caso de `soc.religion.christian` o de `sci.crypt` que pese a tener una exhaustividad alta  que recupera casi todos los ejemplos (97%) tiene una precisión baja, ya que detecta como falsos positivos muchos textos de muchos otros temas."
   ]
  },
  {
   "cell_type": "markdown",
   "metadata": {},
   "source": [
    "### Importancia de las variables "
   ]
  },
  {
   "cell_type": "markdown",
   "metadata": {},
   "source": [
    "Algunos algoritmos de clasificación permiten analizar cuáles son las variables más relevantes para la clasificación. Suele ser una buena idea para entender mejor los resultados analizar esas variables. En el caso de nuestro problema, lo que nos diría sería qué palabras son más útiles para realizar la clasificación. \n",
    "\n",
    "Este tipo de análisis es muy dependiente de la técnica que estemos utilizando, de los fundamentos en los que se base dicha técnica. De hecho, no todas las técnicas permiten hacer estos análisis ya que algunas son más \"caja negra\" que otras. \n",
    "\n",
    "Como información complementaria a lo que veremos en este notebook decir que el paquete [eli5](https://eli5.readthedocs.io/en/0.1/index.html) de Python que tiene como objetivo explicar las predicciones de algunos modelos de machine learning."
   ]
  },
  {
   "cell_type": "markdown",
   "metadata": {},
   "source": [
    "#### Árboles de decisión"
   ]
  },
  {
   "cell_type": "markdown",
   "metadata": {},
   "source": [
    "En el caso de los árboles de decisión podemos obtener las variables con mayor poder de discriminación en el árbol obtenido, es decir, aquellas que mayor reducción de Gini han producido a lo largo del árbol."
   ]
  },
  {
   "cell_type": "code",
   "execution_count": 10,
   "metadata": {},
   "outputs": [
    {
     "name": "stdout",
     "output_type": "stream",
     "text": [
      "Top 20 features per class\n",
      "\n",
      "clipper sale dod windows hockey god car israel space gun baseball turkish bike mac graphics geb window rutgers atheists nhl\n"
     ]
    }
   ],
   "source": [
    "def print_top20_features_in_trees(vectorizer, clf):\n",
    "    \"\"\"Prints features with the highest coefficient values, per class\"\"\"\n",
    "    feature_names = vectorizer.get_feature_names()\n",
    "    \n",
    "    top20 = np.argsort(clf.feature_importances_)[-20:]\n",
    "    reversed_top = top20[::-1]\n",
    "    print(\"Top 20 features per class\\n\")\n",
    "    print(\"%s\" % ( \" \".join(feature_names[j] for j in reversed_top)))\n",
    "\n",
    "print_top20_features_in_trees(vectorizer,tree_classifier)"
   ]
  },
  {
   "cell_type": "markdown",
   "metadata": {},
   "source": [
    "En este caso es muy claro que estamos encontrando palabras que rápidamente nos remiten a alguno de los temas de los que tratan las noticias como es el caso de `clipper` que es un [chip de criptografía](https://www.cryptomuseum.com/crypto/usa/clipper.htm), `sale` que está asociado al grupo de compraventa `misc.forsale`, etc."
   ]
  },
  {
   "cell_type": "markdown",
   "metadata": {},
   "source": [
    "#### Naive Bayes"
   ]
  },
  {
   "cell_type": "markdown",
   "metadata": {},
   "source": [
    "En el caso del Naive Bayes, por cada una de las clases a predecir, podemos obtener aquellas palabras que es más verosímil que aparezcan.  "
   ]
  },
  {
   "cell_type": "code",
   "execution_count": 11,
   "metadata": {},
   "outputs": [
    {
     "name": "stdout",
     "output_type": "stream",
     "text": [
      "Top 20 features per class\n",
      "\n",
      "alt.atheism:   the of to is that in you and it keith edu god not be are caltech this have atheists livesey\n",
      "comp.graphics:   the to of graphics and is it for in edu from that you image on this 3d have or files\n",
      "comp.os.ms-windows.misc:   windows the to it is edu and of for file in dos you that have files with from driver on\n",
      "comp.sys.ibm.pc.hardware:   the to scsi and drive it of is ide card for with edu bus in on that controller com have\n",
      "comp.sys.mac.hardware:   the to mac apple edu of and is it in for that with on you from have my drive this\n",
      "comp.windows.x:   the to window of is and motif in mit it server com for this edu on that from widget you\n",
      "misc.forsale:   sale for the edu and to 00 of offer shipping or you in from new it university with distribution condition\n",
      "rec.autos:   the car to and of in it you is that com edu cars on for my have they are was\n",
      "rec.motorcycles:   the to bike and of in com it you dod my on is that for edu was from re ride\n",
      "rec.sport.baseball:   the edu he to in of and baseball is that year was team for they game his it players you\n",
      "rec.sport.hockey:   the to in of hockey and team he game ca edu that nhl is was for it you on play\n",
      "sci.crypt:   the to of key clipper and is encryption that chip it in be com this for you they keys as\n",
      "sci.electronics:   the to of and is in it you edu for that on com from are have be this with if\n",
      "sci.med:   the of to is and in it that pitt edu geb banks gordon msg this com you are not for\n",
      "sci.space:   the space of to and in nasa is that it edu henry for on you be alaska moon was this\n",
      "soc.religion.christian:   the of to that god is and in it we not you he are be as this jesus was have\n",
      "talk.politics.guns:   the to of in and gun that you is it they edu com guns for are this as have be\n",
      "talk.politics.mideast:   the of to and in israel that israeli you is it not jews turkish are by edu was armenian as\n",
      "talk.politics.misc:   the to of that in and you is it edu not are com cramer for as be this optilink on\n",
      "talk.religion.misc:   the of to and that is in you god sandvik it not jesus edu he com are be as christian\n"
     ]
    }
   ],
   "source": [
    "def print_top20_features_per_class_in_NB(vectorizer, clf, class_labels):\n",
    "    \"\"\"Prints features with the highest coefficient values, per class\"\"\"\n",
    "    feature_names = vectorizer.get_feature_names()\n",
    "    print(\"Top 20 features per class\\n\")\n",
    "    for i, class_label in enumerate(class_labels):\n",
    "        top20 = np.argsort(clf.coef_[i])[-20:]\n",
    "        reversed_top = top20[::-1]\n",
    "        \n",
    "        print(\"%s:   %s\" % (class_label,\n",
    "              \" \".join(feature_names[j] for j in reversed_top)))\n",
    "        \n",
    "print_top20_features_per_class_in_NB(vectorizer,nb_classifier,test_data.target_names)       "
   ]
  },
  {
   "cell_type": "markdown",
   "metadata": {},
   "source": [
    "Resulta interesante ver que aunque hemos usado TF-IDF para reducir el impacto de aquellas palabras más frecuentes, éstan siguen contaminando el clasificador ya que aparecen como las palabras más relevantes (por no decir frecuentes) en los textos de cada una de las categorías.\n",
    "\n",
    "Esto quiere decir que el clasificador seguramente tiene margen de mejora si eliminamos las palabras más frecuentes de la lengua inglesa del diccionario y por tanto de nuestro clasificador."
   ]
  }
 ],
 "metadata": {
  "kernelspec": {
   "display_name": "Python 3",
   "language": "python",
   "name": "python3"
  },
  "language_info": {
   "codemirror_mode": {
    "name": "ipython",
    "version": 3
   },
   "file_extension": ".py",
   "mimetype": "text/x-python",
   "name": "python",
   "nbconvert_exporter": "python",
   "pygments_lexer": "ipython3",
   "version": "3.6.5"
  }
 },
 "nbformat": 4,
 "nbformat_minor": 2
}
